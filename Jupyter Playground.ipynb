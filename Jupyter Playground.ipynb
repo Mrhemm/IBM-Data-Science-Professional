{
 "cells": [
  {
   "cell_type": "markdown",
   "metadata": {},
   "source": [
    "# Jupyter Playground"
   ]
  },
  {
   "cell_type": "markdown",
   "metadata": {},
   "source": [
    "### **Introduction**\n",
    "**This notebook is intended to fulfill IBM Data Science Professional class tasks in the subject matter of hands-on Jupyter notebook practice exercise.**"
   ]
  },
  {
   "cell_type": "markdown",
   "metadata": {},
   "source": [
    "### **Data Science Languages**\n",
    "- Python\n",
    "- R\n",
    "- SQL\n",
    "- Java\n",
    "- JavaScript\n",
    "- Julia\n",
    "- Scala\n",
    "- Swift\n",
    "- MATLAB\n",
    "- GO\n",
    "- SAS"
   ]
  },
  {
   "cell_type": "markdown",
   "metadata": {},
   "source": [
    "### **Data Science Libraries (Python & R)**\n",
    "- Tensorflow\n",
    "- Scikit-Learn\n",
    "- Keras\n",
    "- Pytorch\n",
    "- Pandas\n",
    "- Numpy\n",
    "- Matplotlib\n",
    "- Ggplot2\n",
    "- Caret\n",
    "- Stringr\n",
    "- Readr\n",
    "\n",
    "*There are a ton of Data Science Libraries that does not only concern Python and R, but for the purpose of time efficiency, the list of libraries are only presented in the small list above*"
   ]
  },
  {
   "cell_type": "markdown",
   "metadata": {},
   "source": [
    "### **Data Science Tools**\n",
    "\n",
    "| Tools |\n",
    "| :--- |\n",
    "| Jupyter Lab |\n",
    "| Jupyter notebook |\n",
    "| Google Colab|\n",
    "| RStudio |\n",
    "| VSCode |\n",
    "| IBM SPSS |\n",
    "| Tableau |\n",
    "| Power BI |\n",
    "| ANACONDA |\n",
    "| Apache Spark|\n",
    "| Excel |\n",
    "\n",
    "*The tools used for Data Science are many those are just to name a few*\n"
   ]
  },
  {
   "cell_type": "markdown",
   "metadata": {},
   "source": [
    "### **Artithmetic Expressions**\n",
    "\n",
    "- \"+\" Addition\n",
    "- \"-\" Substraction\n",
    "- \"/\" Division\n",
    "- \"*\" Multiplication\n",
    "- \"**\" Exponentials\n",
    "\n",
    "*These expressions are universal for most of the languages used for Data Science*"
   ]
  },
  {
   "cell_type": "markdown",
   "metadata": {},
   "source": []
  },
  {
   "cell_type": "code",
   "execution_count": 1,
   "metadata": {},
   "outputs": [
    {
     "name": "stdout",
     "output_type": "stream",
     "text": [
      "17\n"
     ]
    }
   ],
   "source": [
    "#Code: Multiply and add Numbers\n",
    "print(5*3+2)"
   ]
  },
  {
   "cell_type": "code",
   "execution_count": 2,
   "metadata": {},
   "outputs": [],
   "source": [
    "#Code: Minute to Hour Conversion\n",
    "\n",
    "minute = input(\"Insert minutes to be converted to hours: \")\n",
    "minute_in_hour = (minute/60)\n",
    "\n",
    "print(\"That means the minute in hour is\")\n",
    "print(\"minute_in_hour\")"
   ]
  },
  {
   "cell_type": "markdown",
   "metadata": {},
   "source": [
    "### **Coding Objectives**\n",
    "- To understand Data Science Languages, Tools, & Libraries\n",
    "- To practice an introductory level python"
   ]
  },
  {
   "cell_type": "markdown",
   "metadata": {},
   "source": [
    "#### **Author**\n",
    "**Atha Bintang Wahyu Mawardi**"
   ]
  },
  {
   "cell_type": "code",
   "execution_count": null,
   "metadata": {},
   "outputs": [],
   "source": []
  }
 ],
 "metadata": {
  "kernelspec": {
   "display_name": "playgroundenv",
   "language": "python",
   "name": "python3"
  },
  "language_info": {
   "codemirror_mode": {
    "name": "ipython",
    "version": 3
   },
   "file_extension": ".py",
   "mimetype": "text/x-python",
   "name": "python",
   "nbconvert_exporter": "python",
   "pygments_lexer": "ipython3",
   "version": "3.11.4"
  }
 },
 "nbformat": 4,
 "nbformat_minor": 2
}
